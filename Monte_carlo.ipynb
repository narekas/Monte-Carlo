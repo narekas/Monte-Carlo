{
  "nbformat": 4,
  "nbformat_minor": 0,
  "metadata": {
    "colab": {
      "provenance": [],
      "authorship_tag": "ABX9TyPwcB94HDvtFIz34KstRNdv",
      "include_colab_link": true
    },
    "kernelspec": {
      "name": "python3",
      "display_name": "Python 3"
    },
    "language_info": {
      "name": "python"
    }
  },
  "cells": [
    {
      "cell_type": "markdown",
      "metadata": {
        "id": "view-in-github",
        "colab_type": "text"
      },
      "source": [
        "<a href=\"https://colab.research.google.com/github/narekas/Monte-Carlo/blob/main/Monte_carlo.ipynb\" target=\"_parent\"><img src=\"https://colab.research.google.com/assets/colab-badge.svg\" alt=\"Open In Colab\"/></a>"
      ]
    },
    {
      "cell_type": "code",
      "execution_count": 1,
      "metadata": {
        "id": "aPy0pptajjqG"
      },
      "outputs": [],
      "source": [
        "import pandas as pd\n",
        "import numpy as np "
      ]
    },
    {
      "cell_type": "code",
      "source": [
        "dice = pd.Series([1,2,3,4,5,6])"
      ],
      "metadata": {
        "id": "ofqc9z4LmPr4"
      },
      "execution_count": 2,
      "outputs": []
    },
    {
      "cell_type": "code",
      "source": [
        "dice.sample(1).values[0]"
      ],
      "metadata": {
        "id": "7OtDh91ImVRR"
      },
      "execution_count": null,
      "outputs": []
    },
    {
      "cell_type": "code",
      "source": [
        "rolls = [dice.sample(1).values[0] for _ in range(10000)]"
      ],
      "metadata": {
        "id": "VZ8f5Q1VmXFY"
      },
      "execution_count": 23,
      "outputs": []
    },
    {
      "cell_type": "code",
      "source": [
        "rolls[:10]"
      ],
      "metadata": {
        "id": "LIX88QAAmqeE"
      },
      "execution_count": null,
      "outputs": []
    },
    {
      "cell_type": "code",
      "source": [
        "pd.Series(rolls).value_counts(normalize=True)"
      ],
      "metadata": {
        "colab": {
          "base_uri": "https://localhost:8080/"
        },
        "id": "vKtlv_v8msJN",
        "outputId": "a2d06e03-1d88-470c-e7df-5147125918b5"
      },
      "execution_count": 24,
      "outputs": [
        {
          "output_type": "execute_result",
          "data": {
            "text/plain": [
              "4    0.1692\n",
              "3    0.1687\n",
              "1    0.1674\n",
              "5    0.1665\n",
              "6    0.1659\n",
              "2    0.1623\n",
              "dtype: float64"
            ]
          },
          "metadata": {},
          "execution_count": 24
        }
      ]
    },
    {
      "cell_type": "code",
      "source": [
        "1/6"
      ],
      "metadata": {
        "colab": {
          "base_uri": "https://localhost:8080/"
        },
        "id": "00Yf8zMomyig",
        "outputId": "38b1d09b-9683-479b-c1c7-33bcde4aa674"
      },
      "execution_count": 25,
      "outputs": [
        {
          "output_type": "execute_result",
          "data": {
            "text/plain": [
              "0.16666666666666666"
            ]
          },
          "metadata": {},
          "execution_count": 25
        }
      ]
    },
    {
      "cell_type": "markdown",
      "source": [
        "#Определить вероятность того, что в группе, состоящей из 23 человек, у двух людей будет совпадение дней рождения (число и месяц)."
      ],
      "metadata": {
        "id": "yMTzgvv2pdrr"
      }
    },
    {
      "cell_type": "code",
      "source": [],
      "metadata": {
        "id": "DWeE3tCRnTaN"
      },
      "execution_count": null,
      "outputs": []
    }
  ]
}